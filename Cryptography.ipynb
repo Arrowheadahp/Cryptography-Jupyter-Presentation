{
 "cells": [
  {
   "cell_type": "markdown",
   "metadata": {},
   "source": [
    "This is inspired from the book named The Code Book by Simon Singh\n",
    "And the cryptography course in Khan Academy"
   ]
  },
  {
   "cell_type": "markdown",
   "metadata": {},
   "source": [
    "This is just a jupyter representation of the simple codes that are present in the above mentioned sources"
   ]
  },
  {
   "cell_type": "code",
   "execution_count": 9,
   "metadata": {},
   "outputs": [],
   "source": [
    "def crypto_input(name, t):\n",
    "    print ('This is',name,)\n",
    "    if t:\n",
    "        print ('Encryption\\n\\n')\n",
    "        plain = input('Enter Plain Text:\\n\\n')\n",
    "    else:\n",
    "        print ('Decryption\\n\\n')\n",
    "    \n",
    "        plain = input('Enter Cipher Text:\\n\\n')\n",
    "    key = input('\\n\\nEnter key: ')\n",
    "    \n",
    "    if t:\n",
    "        print ('\\n\\nCipher Text is:\\n\\n')\n",
    "    \n",
    "    else:\n",
    "        print ('\\n\\nPlain Text is: \\n\\n')\n",
    "    \n",
    "    return (plain.lower(), key)\n",
    "\n",
    "alpha = 'abcdefghijklmnopqrstuvwxyz'\n"
   ]
  },
  {
   "cell_type": "code",
   "execution_count": 11,
   "metadata": {
    "scrolled": false
   },
   "outputs": [
    {
     "name": "stdout",
     "output_type": "stream",
     "text": [
      "This is Scytale\n",
      "Encryption\n",
      "\n",
      "\n",
      "Enter Plain Text:\n",
      "\n",
      "Another form of transposition is embodied in the first-ever military cryptographic device, the Spartan scytale, dating back to the fifth century B.C. The scytale is a wooden staff around which a strip of leather or parchment is wound, as shown in Figure 2. The sender writes the message along the length of the scytale and then unwinds the strip, which now appears to carry a list of meaningless letters. The message has been scrambled. The messenger would take the leather strip, and, as a steganographic twist, he would sometimes disguise it as a belt with the letters hidden on the inside. To recover the message, the receiver simply wraps the leather strip around a scytale of the same diameter as the one used by the sender. In 404 B.C.\n",
      "\n",
      "\n",
      "Enter key: 12\n",
      "\n",
      "\n",
      "Cipher Text is:\n",
      "\n",
      "\n",
      "a io mpeplai yoa lawoedhlgchtheyml  ls a tcwm tenivae e y eee notdfitvaecfbtoraerow eeotyehia eembeettae oei t degiwaatsr  4ofiiiloir,kt.ado acun2r nhtnecraateednahngtustwtoerevrtraa us0t oerigct  hcleusthn . mg a  hs ntse.gkedawl  ien. ,eaholmase4htndstreadt .ennthmdi we olus  liesn eer,niddatr  t rpeueesen er  taa,naoc   dree,ntrstfentntinra tr   os ishsttht srn   ddbraii-rp  t etis irn  hish  wroosgsgsh tsagtss   hoehs  dodt e. nsneyhtsitnhstwp tafetaetaiiw tl.ecewhtsr,ogathe  eits fihbrcfs  v ihcnhte ah o si eg hnnp c e  r oer a mu hi rm mhta aey..opetecceygeu afiori gsseledd,aaosthamu iapheibedieerper tm   romhrr  t  rs fcf ssue  e  s prfshamellp hetse dncsel isheotimsbe ydsabfycw h p hrntanst wpr  esbsde,si iellesoscylpcetnhn\n"
     ]
    }
   ],
   "source": [
    "#the codebook\n",
    "#page12\n",
    "# Spartan Scytale encryption\n",
    "\n",
    "def scytale_encrypt(p,n):    #p = plaintext, n = number\n",
    "    cipher=''        # initialising ciphertext\n",
    "    for i in range(n):\n",
    "        for j in range(i,len(p),n):\n",
    "            cipher+=p[j]\n",
    "    \n",
    "    return cipher\n",
    "\n",
    "if __name__ == '__main__':\n",
    "    plaintext, num = crypto_input('Scytale', 1)\n",
    "    print (scytale_encrypt(plaintext, int(num)))  #printing the called function\n",
    "\n",
    "\n"
   ]
  },
  {
   "cell_type": "code",
   "execution_count": 14,
   "metadata": {},
   "outputs": [
    {
     "name": "stdout",
     "output_type": "stream",
     "text": [
      "This is Scytale\n",
      "Decryption\n",
      "\n",
      "\n",
      "Enter Cipher Text:\n",
      "\n",
      "a io mpeplai yoa lawoedhlgchtheyml  ls a tcwm tenivae e y eee notdfitvaecfbtoraerow eeotyehia eembeettae oei t degiwaatsr  4ofiiiloir,kt.ado acun2r nhtnecraateednahngtustwtoerevrtraa us0t oerigct  hcleusthn . mg a  hs ntse.gkedawl  ien. ,eaholmase4htndstreadt .ennthmdi we olus  liesn eer,niddatr  t rpeueesen er  taa,naoc   dree,ntrstfentntinra tr   os ishsttht srn   ddbraii-rp  t etis irn  hish  wroosgsgsh tsagtss   hoehs  dodt e. nsneyhtsitnhstwp tafetaetaiiw tl.ecewhtsr,ogathe  eits fihbrcfs  v ihcnhte ah o si eg hnnp c e  r oer a mu hi rm mhta aey..opetecceygeu afiori gsseledd,aaosthamu iapheibedieerper tm   romhrr  t  rs fcf ssue  e  s prfshamellp hetse dncsel isheotimsbe ydsabfycw h p hrntanst wpr  esbsde,si iellesoscylpcetnhn\n",
      "\n",
      "\n",
      "Enter key: 12\n",
      "\n",
      "\n",
      "Plain Text is: \n",
      "\n",
      "\n",
      "another form of transposition is embodied in the first-ever military cryptographic device, the spartan scytale, dating back to the fifth century b.c. the scytale is a wooden staff around which a strip of leather or parchment is wound, as shown in figure 2. the sender writes the message along the length of the scytale and then unwinds the strip, which now appears to carry a list of meaningless letters. the message has been scrambled. the messenger would take the leather strip, and, as a steganographic twist, he would sometimes disguise it as a belt with the letters hidden on the inside. to recover the message, the receiver simply wraps the leather strip around a scytale of the same diameter as the one used by the sender. in 404 b.c.\n"
     ]
    }
   ],
   "source": [
    "#the codebook\n",
    "#page12\n",
    "# Spartan Scytale decryption\n",
    "from math import ceil\n",
    "\n",
    "def scytale_decrypt(c,n):            #p = cipher, n = number\n",
    "    cl = ['' for _ in range(n)]\n",
    "    l = len(c)\n",
    "    char=0\n",
    "    for i in range(l%n):\n",
    "        for _ in range(int(l/n)+1):\n",
    "            cl[i] +=c [char]\n",
    "            char += 1\n",
    "    for i in range(l%n,n):\n",
    "        for _ in range(int(l/n)):\n",
    "            cl[i] += c[char]\n",
    "            char += 1\n",
    "    \n",
    "    cipher = ''\n",
    "    for i in range(int(l/n)):\n",
    "        for j in cl:\n",
    "            cipher+=j[i]\n",
    "    for i in range(l%n):\n",
    "        cipher += cl[i][-1]\n",
    "        \n",
    "    return cipher\n",
    "\n",
    "if __name__ == '__main__':\n",
    "    cipher, num = crypto_input('Scytale', 0)\n",
    "    print (scytale_decrypt(cipher, int(num))) #printing the called function\n",
    "\n",
    "\n"
   ]
  },
  {
   "cell_type": "code",
   "execution_count": 15,
   "metadata": {},
   "outputs": [
    {
     "name": "stdout",
     "output_type": "stream",
     "text": [
      "This is Caesar\n",
      "Encryption\n",
      "\n",
      "\n",
      "Enter Plain Text:\n",
      "\n",
      "The messenger was instructed, if he could not approach, to hurl a spear, with the letter fastened to the thong, inside the entrenchment of the camp. Fearing danger, the Gaul discharged the spear, as he had been instructed. By chance it stuck fast in the tower, and for two days was not sighted by our troops; on the third day it was sighted by a soldier, taken down, and delivered to Cicero. He read it through and then recited it at a parade of the troops, bringing the greatest rejoicing to all.\n",
      "\n",
      "\n",
      "Enter key: 3\n",
      "\n",
      "\n",
      "Cipher Text is:\n",
      "\n",
      "\n",
      "wkh phvvhqjhu zdv lqvwuxfwhg, li kh frxog qrw dssurdfk, wr kxuo d vshdu, zlwk wkh ohwwhu idvwhqhg wr wkh wkrqj, lqvlgh wkh hqwuhqfkphqw ri wkh fdps. ihdulqj gdqjhu, wkh jdxo glvfkdujhg wkh vshdu, dv kh kdg ehhq lqvwuxfwhg. eb fkdqfh lw vwxfn idvw lq wkh wrzhu, dqg iru wzr gdbv zdv qrw vljkwhg eb rxu wurrsv; rq wkh wklug gdb lw zdv vljkwhg eb d vroglhu, wdnhq grzq, dqg gholyhuhg wr flfhur. kh uhdg lw wkurxjk dqg wkhq uhflwhg lw dw d sdudgh ri wkh wurrsv, eulqjlqj wkh juhdwhvw uhmrlflqj wr doo.\n"
     ]
    }
   ],
   "source": [
    "# the codebook\n",
    "# page 15\n",
    "# Ceasar Cipher Encryption\n",
    "\n",
    "def Caesarcipher_encrypt(plain,shift):\n",
    "    global alpha\n",
    "    cipher = ''\n",
    "    plain = plain.lower()\n",
    "    for char in plain:\n",
    "        if char in alpha:\n",
    "            cipher += chr((ord(char) -97 + shift) %26 +97)\n",
    "        else:\n",
    "            cipher += char\n",
    "    \n",
    "    return cipher\n",
    "\n",
    "if __name__ == '__main__':\n",
    "    plain, num = crypto_input('Caesar', 1)\n",
    "    print (Caesarcipher_encrypt(plain, int(num)))  #printing the called function\n",
    "\n",
    "\n",
    " "
   ]
  },
  {
   "cell_type": "code",
   "execution_count": 16,
   "metadata": {},
   "outputs": [
    {
     "name": "stdout",
     "output_type": "stream",
     "text": [
      "This is Caesar\n",
      "Decryption\n",
      "\n",
      "\n",
      "Enter Cipher Text:\n",
      "\n",
      "wkh phvvhqjhu zdv lqvwuxfwhg, li kh frxog qrw dssurdfk, wr kxuo d vshdu, zlwk wkh ohwwhu idvwhqhg wr wkh wkrqj, lqvlgh wkh hqwuhqfkphqw ri wkh fdps. ihdulqj gdqjhu, wkh jdxo glvfkdujhg wkh vshdu, dv kh kdg ehhq lqvwuxfwhg. eb fkdqfh lw vwxfn idvw lq wkh wrzhu, dqg iru wzr gdbv zdv qrw vljkwhg eb rxu wurrsv; rq wkh wklug gdb lw zdv vljkwhg eb d vroglhu, wdnhq grzq, dqg gholyhuhg wr flfhur. kh uhdg lw wkurxjk dqg wkhq uhflwhg lw dw d sdudgh ri wkh wurrsv, eulqjlqj wkh juhdwhvw uhmrlflqj wr doo.\n",
      "\n",
      "\n",
      "Enter key: 3\n",
      "\n",
      "\n",
      "Plain Text is: \n",
      "\n",
      "\n",
      "the messenger was instructed, if he could not approach, to hurl a spear, with the letter fastened to the thong, inside the entrenchment of the camp. fearing danger, the gaul discharged the spear, as he had been instructed. by chance it stuck fast in the tower, and for two days was not sighted by our troops; on the third day it was sighted by a soldier, taken down, and delivered to cicero. he read it through and then recited it at a parade of the troops, bringing the greatest rejoicing to all.\n"
     ]
    }
   ],
   "source": [
    "# the codebook\n",
    "# page 15\n",
    "# Ceasar Cipher Decryption\n",
    "\n",
    "def Caesarcipher_decrypt(cipher,shift):\n",
    "    global alpha\n",
    "    plain = ''\n",
    "    cipher = cipher.lower()\n",
    "    for char in cipher:\n",
    "        if char in alpha:\n",
    "            plain += chr((ord(char) -97 - shift) %26 +97)\n",
    "        else:\n",
    "            plain += char\n",
    "    \n",
    "    return plain\n",
    "\n",
    "if __name__ == '__main__':\n",
    "    cipher, num = crypto_input('Caesar', 0)\n",
    "    print (Caesarcipher_decrypt(cipher, int(num)))  #printing the called function\n",
    "\n",
    " "
   ]
  },
  {
   "cell_type": "code",
   "execution_count": 17,
   "metadata": {},
   "outputs": [
    {
     "name": "stdout",
     "output_type": "stream",
     "text": [
      "This is Substitution\n",
      "Encryption\n",
      "\n",
      "\n",
      "Enter Plain Text:\n",
      "\n",
      "The advantage of building a cipher alphabet in this way is that it is easy to memorize the keyword or keyphrase, and hence the cipher alphabet. This is important, because if the sender has to keep the cipher alphabet on a piece of paper, the enemy can capture the paper, discover the key and read any communications that have been encrypted with it. However, if the key can be committed to memory, it is less likely to fall into enemy hands.\n",
      "\n",
      "\n",
      "Enter key: codebook\n",
      "\n",
      "\n",
      "Cipher Text is:\n",
      "\n",
      "\n",
      "zmb cefctzclb uk oanrentl c dnvmbx crvmcobz nt zmny gci ny zmcz nz ny bcyi zu sbsuxnjb zmb qbiguxe ux qbivmxcyb, cte mbtdb zmb dnvmbx crvmcobz. zmny ny nsvuxzctz, obdcayb nk zmb ybtebx mcy zu qbbv zmb dnvmbx crvmcobz ut c vnbdb uk vcvbx, zmb btbsi dct dcvzaxb zmb vcvbx, enydufbx zmb qbi cte xbce cti dussatndcznuty zmcz mcfb obbt btdxivzbe gnzm nz. mugbfbx, nk zmb qbi dct ob dussnzzbe zu sbsuxi, nz ny rbyy rnqbri zu kcrr ntzu btbsi mctey.\n"
     ]
    }
   ],
   "source": [
    "# the codebook\n",
    "# page 17\n",
    "# keyphrase substitution Encryption with Key phrase\n",
    "\n",
    "def substitution_encrypt(plain, keyphrase):\n",
    "    key = ''\n",
    "    keyphrase = keyphrase.lower()\n",
    "    for i in keyphrase:\n",
    "        if i in alpha and i not in key:\n",
    "            key += i\n",
    "    \n",
    "    start = ord(key[-1]) - 97\n",
    "    for i in range(start, start+26):\n",
    "        char = chr(i%26 + 97)\n",
    "        if char not in key:\n",
    "            key+=char\n",
    "    \n",
    "    cipher = ''\n",
    "    for char in plain:\n",
    "        if char in alpha:\n",
    "            cipher += key[ord(char) -97]\n",
    "        else:\n",
    "            cipher += char\n",
    "    \n",
    "    return cipher\n",
    "\n",
    "if __name__ == '__main__':\n",
    "    plain, key = crypto_input('Substitution', 1)\n",
    "    print (substitution_encrypt(plain, key))  #printing the called function\n",
    "\n",
    "\n",
    " "
   ]
  },
  {
   "cell_type": "code",
   "execution_count": 18,
   "metadata": {},
   "outputs": [
    {
     "name": "stdout",
     "output_type": "stream",
     "text": [
      "This is Substitution\n",
      "Decryption\n",
      "\n",
      "\n",
      "Enter Cipher Text:\n",
      "\n",
      "zmb cefctzclb uk oanrentl c dnvmbx crvmcobz nt zmny gci ny zmcz nz ny bcyi zu sbsuxnjb zmb qbiguxe ux qbivmxcyb, cte mbtdb zmb dnvmbx crvmcobz. zmny ny nsvuxzctz, obdcayb nk zmb ybtebx mcy zu qbbv zmb dnvmbx crvmcobz ut c vnbdb uk vcvbx, zmb btbsi dct dcvzaxb zmb vcvbx, enydufbx zmb qbi cte xbce cti dussatndcznuty zmcz mcfb obbt btdxivzbe gnzm nz. mugbfbx, nk zmb qbi dct ob dussnzzbe zu sbsuxi, nz ny rbyy rnqbri zu kcrr ntzu btbsi mctey.\n",
      "\n",
      "\n",
      "Enter key: codebook\n",
      "\n",
      "\n",
      "Plain Text is: \n",
      "\n",
      "\n",
      "the advantage of building a cipher alphabet in this way is that it is easy to memorize the keyword or keyphrase, and hence the cipher alphabet. this is important, because if the sender has to keep the cipher alphabet on a piece of paper, the enemy can capture the paper, discover the key and read any communications that have been encrypted with it. however, if the key can be committed to memory, it is less likely to fall into enemy hands.\n"
     ]
    }
   ],
   "source": [
    "# the codebook\n",
    "# page 17\n",
    "# keyphrase substitution Decryption with Key phrase\n",
    "\n",
    "def substitution_decrypt(cipher, keyphrase):\n",
    "    key = ''\n",
    "    keyphrase = keyphrase.lower()\n",
    "    for i in keyphrase:\n",
    "        if i in alpha and i not in key:\n",
    "            key += i\n",
    "    \n",
    "    start = ord(key[-1]) - 97\n",
    "    for i in range(start, start+26):\n",
    "        char = chr(i%26 + 97)\n",
    "        if char not in key:\n",
    "            key+=char\n",
    "    \n",
    "    dkeylist = ['' for _ in range(26)]\n",
    "    for i in range(26):\n",
    "        dkeylist[ord(key[i])-97] = chr(97+i)\n",
    "    \n",
    "    key = ''.join(dkeylist)\n",
    "    \n",
    "    \n",
    "    plain = ''\n",
    "    for char in cipher:\n",
    "        if char in alpha:\n",
    "            plain += key[ord(char) -97]\n",
    "        else:\n",
    "            plain += char\n",
    "    \n",
    "    return plain\n",
    "\n",
    "if __name__ == '__main__':\n",
    "    cipher, key = crypto_input('Substitution', 0)\n",
    "    print (substitution_decrypt(cipher, key))  #printing the called function\n",
    "\n"
   ]
  },
  {
   "cell_type": "code",
   "execution_count": 21,
   "metadata": {},
   "outputs": [
    {
     "data": {
      "image/png": "[encoded data removed]",
      "text/plain": [
       "<Figure size 432x288 with 1 Axes>"
      ]
     },
     "metadata": {},
     "output_type": "display_data"
    }
   ],
   "source": [
    "# FREQUENCY ANALYSIS\n",
    "# the code book\n",
    "# page 23\n",
    "%matplotlib inline\n",
    "from collections import Counter\n",
    "from matplotlib import pyplot as plt\n",
    "\n",
    "string = '''One way to solve an encrypted message, if we know its language,\n",
    "is to find a different plaintext of the same language long\n",
    "enough to fill one sheet or so, and then we count the occurrences\n",
    "of each letter.We call the most frequently occurring letter\n",
    "the “first,” the next most occurring letter the “second,” the\n",
    "following most occurring letter the “third,” and so on, until we\n",
    "account for all the different letters in the plaintext sample.\n",
    "Then we look at the ciphertext we want to solve and we also\n",
    "classify its symbols. We find the most occurring symbol and\n",
    "change it to the form of the “first” letter of the plaintext sample,\n",
    "the next most common symbol is changed to the form of\n",
    "the “second” letter, and the third most common symbol is\n",
    "changed to the form of the “third” letter, and so on, until we account\n",
    "for all symbols of the cryptogram we want to solve.'''\n",
    "\n",
    "def p(s=string):\n",
    "    freq = Counter(s.lower())\n",
    "    D = []\n",
    "    for k,v in freq.items():\n",
    "        if k not in alpha:\n",
    "            D.append(k)\n",
    "    for k in D:\n",
    "        del freq[k] \n",
    "\n",
    "    plt.style.use('ggplot')\n",
    "\n",
    "    z=list(zip(freq.keys(), freq.values()))\n",
    "    z.sort()\n",
    "\n",
    "    x = [k for k,_ in z]\n",
    "    y = [v for _,v in z]\n",
    "\n",
    "    plt.bar(x,y)\n",
    "\n",
    "\n",
    "    plt.title('Frequency Analysis')\n",
    "\n",
    "    plt.show()\n",
    "\n",
    "\n",
    "p()"
   ]
  },
  {
   "cell_type": "code",
   "execution_count": 31,
   "metadata": {},
   "outputs": [
    {
     "name": "stdout",
     "output_type": "stream",
     "text": [
      "This is Vignere\n",
      "Encryption\n",
      "\n",
      "\n",
      "Enter Plain Text:\n",
      "\n",
      "sit thee down, and have no shame, cheek by jowl, and knee by knee: what care i for any name? what for order or degree? let me screw thee up a peg: let me loose thy tongue with wine: callest thou that thing a leg? which is thinnest? thine or mine? thou shalt not be saved by works: thou hast been a sinner too:ruined trunks on withered forks, empty scarecrows, i and you! fill the cup, and fill the can: have a rouse before the morn: every moment dies a man, every moment one is born.\n",
      "\n",
      "\n",
      "Enter key: emily\n",
      "\n",
      "\n",
      "Cipher Text is:\n",
      "\n",
      "\n",
      "wub efiq lzur, mvo fehm ym wtixc, gtmpi fk rzup, mvo irqm mw ozmp: ulmb nyvq q qmv mvj leym? hfef nzp sdlpp sd lpevqm? wcx ym davqe efiq ca y tqo: wcx ym wmsem efc fwyeyq etrl iqyc: gmtwcwf bsmy fplr xtqye e xmr? uluks gw fptlrqae? rluvp mv yqyc? xtwf qlmte lsf jp qehmo zc iwciw: fpzs lmae ziqv l qmzvpp xaw:csmzmo rvgvvq sz etrlqzpb jazvq, iyxew woiccgdwhq, m mvo wsg! ntjp fpp ayb, iyb jutw rlq kll: lmdp y vacdc fqnzpi fpp ksdv: ptidg xmqqve bmqa l kez, mgcvk uzkizb zli ua mmvz.\n"
     ]
    }
   ],
   "source": [
    "# VIGNERE CIPHER\n",
    "# the codebook\n",
    "# page 55\n",
    "\n",
    "from itertools import cycle\n",
    "\n",
    "def vignere_encrypt(plain, keyphrase):\n",
    "    key = ''\n",
    "    keyphrase = keyphrase.lower()\n",
    "    for i in keyphrase:\n",
    "        if i in alpha:\n",
    "            key += i\n",
    "    \n",
    "    cipher = ''\n",
    "    key = cycle(key)\n",
    "    for char in plain.lower():\n",
    "        if char in alpha:\n",
    "            K = ord(next(key)) - 97\n",
    "            char = chr((ord(char) -97 + K)%26 +97)\n",
    "        \n",
    "        cipher+=char\n",
    "    return cipher\n",
    "            \n",
    "if __name__ == '__main__':\n",
    "    plain, key = crypto_input('Vignere', 1)\n",
    "    print (vignere_encrypt(plain, key))  #printing the called function\n",
    "\n",
    "    "
   ]
  },
  {
   "cell_type": "code",
   "execution_count": 26,
   "metadata": {},
   "outputs": [
    {
     "data": {
      "image/png": "[encoded data removed]",
      "text/plain": [
       "<Figure size 432x288 with 1 Axes>"
      ]
     },
     "metadata": {},
     "output_type": "display_data"
    }
   ],
   "source": [
    "# FREQUENCY ANALYSIS\n",
    "# the code book\n",
    "# page 23\n",
    "%matplotlib inline\n",
    "from collections import Counter\n",
    "from matplotlib import pyplot as plt\n",
    "\n",
    "string = '''wub efiq lzur, mvo fehm ym wtixc, gtmpi fk rzup, mvo irqm mw ozmp: \n",
    "ulmb nyvq q qmv mvj leym? hfef nzp sdlpp sd lpevqm? wcx ym davqe efiq ca y tqo:\n",
    "wcx ym wmsem efc fwyeyq etrl iqyc: gmtwcwf bsmy fplr xtqye e xmr? uluks gw fptl\n",
    "rqae? rluvp mv yqyc? xtwf qlmte lsf jp qehmo zc iwciw: fpzs lmae ziqv l qmzvpp \n",
    "xaw:csmzmo rvgvvq sz etrlqzpb jazvq, iyxew woiccgdwhq, m mvo wsg! ntjp fpp ayb, iyb jutw rlq kll: \n",
    "lmdp y vacdc fqnzpi fpp ksdv: ptidg xmqqve bmqa l kez, mgcvk uzkizb zli ua mmvz.'''\n",
    "\n",
    "def p(s=string):\n",
    "    freq = Counter(s.lower())\n",
    "    D = []\n",
    "    for k,v in freq.items():\n",
    "        if k not in alpha:\n",
    "            D.append(k)\n",
    "    for k in D:\n",
    "        del freq[k] \n",
    "\n",
    "    plt.style.use('ggplot')\n",
    "\n",
    "    z=list(zip(freq.keys(), freq.values()))\n",
    "    z.sort()\n",
    "\n",
    "    x = [k for k,_ in z]\n",
    "    y = [v for _,v in z]\n",
    "\n",
    "    plt.bar(x,y)\n",
    "\n",
    "\n",
    "    plt.title('Frequency Analysis of Vignere Cipher')\n",
    "\n",
    "    plt.show()\n",
    "\n",
    "\n",
    "p()"
   ]
  },
  {
   "cell_type": "code",
   "execution_count": 32,
   "metadata": {},
   "outputs": [
    {
     "name": "stdout",
     "output_type": "stream",
     "text": [
      "This is Vignere\n",
      "Decryption\n",
      "\n",
      "\n",
      "Enter Cipher Text:\n",
      "\n",
      "wub efiq lzur, mvo fehm ym wtixc, gtmpi fk rzup, mvo irqm mw ozmp: ulmb nyvq q qmv mvj leym? hfef nzp sdlpp sd lpevqm? wcx ym davqe efiq ca y tqo: wcx ym wmsem efc fwyeyq etrl iqyc: gmtwcwf bsmy fplr xtqye e xmr? uluks gw fptlrqae? rluvp mv yqyc? xtwf qlmte lsf jp qehmo zc iwciw: fpzs lmae ziqv l qmzvpp xaw:csmzmo rvgvvq sz etrlqzpb jazvq, iyxew woiccgdwhq, m mvo wsg! ntjp fpp ayb, iyb jutw rlq kll: lmdp y vacdc fqnzpi fpp ksdv: ptidg xmqqve bmqa l kez, mgcvk uzkizb zli ua mmvz.\n",
      "\n",
      "\n",
      "Enter key: emily\n",
      "\n",
      "\n",
      "Plain Text is: \n",
      "\n",
      "\n",
      "sit thee down, and have no shame, cheek by jowl, and knee by knee: what care i for any name? what for order or degree? let me screw thee up a peg: let me loose thy tongue with wine: callest thou that thing a leg? which is thinnest? thine or mine? thou shalt not be saved by works: thou hast been a sinner too:ruined trunks on withered forks, empty scarecrows, i and you! fill the cup, and fill the can: have a rouse before the morn: every moment dies a man, every moment one is born.\n"
     ]
    }
   ],
   "source": [
    "# VIGNERE CIPHER\n",
    "# the codebook\n",
    "# page 55\n",
    "\n",
    "from itertools import cycle\n",
    "\n",
    "def vignere_decrypt(cipher, keyphrase):\n",
    "    key = ''\n",
    "    keyphrase = keyphrase.lower()\n",
    "    for i in keyphrase:\n",
    "        if i in alpha:\n",
    "            key += i\n",
    "    \n",
    "    plain = ''\n",
    "    key = cycle(key)\n",
    "    for char in cipher.lower():\n",
    "        if char in alpha:\n",
    "            K = ord(next(key)) - 97\n",
    "            char = chr((ord(char) -97 - K)%26 +97)\n",
    "        \n",
    "        plain+=char\n",
    "    return plain\n",
    "            \n",
    "if __name__ == '__main__':\n",
    "    cipher, key = crypto_input('Vignere', 0)\n",
    "    print (vignere_decrypt(cipher, key))  #printing the called function\n",
    "\n",
    "    "
   ]
  },
  {
   "cell_type": "code",
   "execution_count": 33,
   "metadata": {},
   "outputs": [
    {
     "name": "stdout",
     "output_type": "stream",
     "text": [
      "This is the ENIGMA\n",
      "\n",
      "\n",
      "Enter Text:\n",
      "\n",
      "Imagine that an operator wants to send a secret message. Before encryption begins, he must first rotate the scramblers to some starting position. There are 17,576 possible arrangements and therefore 17,576 possible starting positions. The initial setting of the scramblers will determine how the message is encrypted. We can think of the Enigma machine in terms of a general cipher system, and the initial settings are what determine the exact details of the encryption. In other words, the initial settings provide the key. The initial settings are usually dictated by a codebook, which lists the key for each day, and which is available to everybody within the communications network. Distributing the codebook requires time and effort, but because only one key per day is required, it could be arranged for a codebook containing twenty-eight keys to be sent out just once every four weeks. Once the scramblers have been set according to the codebook’s daily requirement, the sender can begin encrypting. He types in the first letter of the message, sees which letter is illuminated on the lampboard and notes it down as the first letter of the ciphertext. Then, the first scrambler having automatically stepped forward by one place, the sender inputs the second letter of the message, and so on. Once he has generated the complete ciphertext, he hands it to a radio operator, who transmits it to the intended receiver.\n",
      "\n",
      "\n",
      "Cipher Text from Plain text:\n",
      "\n",
      "\n",
      "br_FFWl v10_ d[ st\\u9@\\Z \\9wMo oh 4TlS M O`nl28 dz>QY==. qrvP]J dZ2ZasGYUT q2=`dG, DY vZgT zm<4o e7lW;A PDo B`ORe<[WGX Sf 0DyR ]QM18r6[ vuJhr9^J. []o;I ]3^ k5,UE^ 65uf8d9x D6;Md?tx;^\\z 3VP bHW^Jxmbl A9,F3E ?9\\j<mco W<rx5l3w ol`pjs_gq. Q\\^ 1fZ??RF ?1RI5u< =u rJ8 ^YgrGWSbpD pC[v FpoiuKzfJ D93 J[= Z]ehB[; D; k:FBepy6:. O0 2Ny EOK7u V[ i1Z uROfpf =X[mGJd dD Xo7cx 1U v S@ukL`@ <F2>;b zr^fsD, 3sm >zm FZz=^tv NHv1h;yg v`k Y;xA wTe8nf1;k wS^ <9M_U C3DQM8k W[ Td@ ifam=t@c2r. r3 frtBJ fygAI, vbs \\GxIay? F>UHV<w] oZwhL@_ y49 llu. eOJ 0?q@wt8 DO\\2`O^I fm< b>gQ1yE 1VU8aI`6 :N 9 d6h5YA0Y, E0rBY ABJ9S CN; Ltg Ff0 ^`\\c tNB, bOQ Iv37g xB wAvknDQ^[ G> yvF8nn=QV >rgXa7 @6i pb=7n^mOUB9pM0 az5[Xbq. jA\\2VvkxsVVt Ctl lI7;OfSF Rw<O>iO4 Eq7z rpM \\el3i_, [e7 s=d8J;g edg7 32w ie> vP< SmV 2D B?UFqJ^I, 0@ Xra_5 wE I7Fu<e5R o=t n ]4U9[[6V asr<5^0T;] wrM6eI-jl^of LMjd k` Z1 2>1K Z<; viXH EKa? OMSa6 AB4A 2>j1h. ZA>y Uq5 xz;2ATNSv? ;ay: zdTF HV_ ekgKvZPdi 7= gNY MQZEC0pE’h P0l1^ rKg0UFn[vEd, r?2 VpXa6C \\=? [NjfP AMCILJR`Q;. Xg =GyMG hY oRZ xUddQ PqGEm< Oo YWW :vTbOSh, \\dUR K410Y _2rPo@ Tf :YxCcLQtRp^ rL 3rz kX=iv;Dee =bH aYMXt C= gB=E 1A N0B AakJS f2@Wi5 XH SMq NYEh<v<r`E. lC>M, 8N? casG? 12p\\J]PZN KY:EvV Gytmvy:KmaX<q KEUzsb< ZnBbvRy f< rq2 xFT_b, <r` Ui7h9H _Autdc _bn :lCCBX I=M<`> <A oW2 VtkmpBr, ge3 r= <P. icCS ;W ?Ct 3j7sA\\h]\\ nM^ Tg_F4XiL PHqlIupa>], mZ SZOJY X\\ >? L lzVir Mr:0KJtb, 8IR 1E=AydNaO ux rC tth 6qEB7aBZ zR[M8Pn2.\n",
      "\n",
      "\n",
      "\n",
      "The deciphered message can be get by typing the ciphertext into the enigma again in its initial position\n",
      "\n",
      "\n",
      "Plain text from cipher text is:\n",
      "\n",
      "\n",
      "Imagine that an operator wants to send a secret message. Before encryption begins, he must first rotate the scramblers to some starting position. There are 17,576 possible arrangements and therefore 17,576 possible starting positions. The initial setting of the scramblers will determine how the message is encrypted. We can think of the Enigma machine in terms of a general cipher system, and the initial settings are what determine the exact details of the encryption. In other words, the initial settings provide the key. The initial settings are usually dictated by a codebook, which lists the key for each day, and which is available to everybody within the communications network. Distributing the codebook requires time and effort, but because only one key per day is required, it could be arranged for a codebook containing twenty-eight keys to be sent out just once every four weeks. Once the scramblers have been set according to the codebook’s daily requirement, the sender can begin encrypting. He types in the first letter of the message, sees which letter is illuminated on the lampboard and notes it down as the first letter of the ciphertext. Then, the first scrambler having automatically stepped forward by one place, the sender inputs the second letter of the message, and so on. Once he has generated the complete ciphertext, he hands it to a radio operator, who transmits it to the intended receiver.\n"
     ]
    }
   ],
   "source": [
    "# THE ENIGMA\n",
    "# the code book\n",
    "# page 109\n",
    "\n",
    "from itertools import cycle\n",
    "\n",
    "s = '0123456789:;<=>?@ABCDEFGHIJKLMNOPQRSTUVWXYZ[\\]^_`abcdefghijklmnopqrstuvwxyz'\n",
    "\n",
    "SCRAMBLER = ['w]M4OF>khQIyL3TgNz18rKtSad[D2iqJ=Ax;@ul9_V<5Uo`7\\\\0sEb:HW^nXPY6BcmCejGpfRZ?v', \n",
    "             'xLq_0by4=Pw3nWRQ9VN2J[d8MDYmA@;j>7^hU6ep\\\\z`GE<kOoHt5:?cfIvKTSlFiZu1]XBCagrs', \n",
    "             ':9B`r8?mAY4\\\\2PVygJbQqc@hCDdU=6O]GNFMfaHWtknXL<157E;ljI[3w0ZiRv^SKzoe>u_Tpsx', \n",
    "             'rb0>xw]\\\\3c^Ygd9m?FB1NXR`SZCUuV@[PGDeoyzv8_E26<OHJ57jkTntQaIlL:;=hifKqM4sWpA', \n",
    "             'c5VQ?h3ulnBgbCKj6fPZTJA;>:O9p_0@zyarwi47<8\\\\1vL`=q]WxkD^[GEteFYUIsMSmNH2oRXd', \n",
    "             'JTnGk\\\\pQFSHL^=PxDwBU1oXIh80E>r5eNfz9bgc?ljdOV:ARiZ7[u`KYs6;]vyMW2qa4<@3mC_t', \n",
    "             'm@Lu1ESwnYpHdQ4k:h=D][`sl;?N<A^iWZG0bI\\\\8>vj3qOBfoVTM2Xz9URPF7CygJaKrce_tx65', \n",
    "             'v537Icp@1<gOxJ[DwQdUoi8:myBs^=TZqP_`]MjeXVbW;0tKnHraGCSzYRfkhlE?4\\\\>N6FA29Lu', \n",
    "             ']Z[DEL5lKuA0npqy7es\\\\3B?ck@9bY6Mjd_gQh=iwzCof<UGv4Ix`Xt1NH;:mPaRWOJ8TS^V2rF>', \n",
    "             '6V=7:zfE>5rI4ZYotg_sSG2TKkv?q0D@8`UnHa;BjeFpuMXdbPyw3\\\\ClcR1iL9<WNJO]mxQ[Ah^', \n",
    "             'hR;LtZib0N`f1sVFKecpEBCMH4UTdx>Jzj7=WDGro2mkAqw^uYOP]?36IXa<\\\\lvS:5@gQ89y[n_', \n",
    "             'geAn]c?8f7D0da[N>o=YIVuEvPG4`QtMqypklTm^\\\\xSrZKHWUC63zb<Fjh_ORsw;:Xi152@BLJ9']\n",
    "\n",
    "scrambler = SCRAMBLER\n",
    "repeater = s[::-1]\n",
    "start = 48\n",
    "rotation = [1, 3, 5, 7, 11, 13, 17, 23, 29, 37, 43, 53]\n",
    "    \n",
    "def enigma (initial, key):\n",
    "    global scrambler\n",
    "    global repeater\n",
    "    global start\n",
    "    global rotation\n",
    "    \n",
    "    S = scrambler\n",
    "    key = cycle(key)\n",
    "    \n",
    "    for i in range(len(S)):\n",
    "        t = S[i].find(next(key))\n",
    "        S[i] = S[i][t:]+S[i][:t]\n",
    "    \n",
    "    cipher = ''\n",
    "    turn = 0\n",
    "    \n",
    "    for char in initial:\n",
    "        turn +=1\n",
    "        if char in repeater:\n",
    "            k = ord(char)\n",
    "            for s in scrambler:\n",
    "                k = ord(s[k -start])\n",
    "            k = ord(repeater[k -start]) \n",
    "            for s in scrambler[::-1]:\n",
    "                k = s.find(chr(k)) +start\n",
    "            char = chr(k)\n",
    "        cipher += char\n",
    "        for i,t in enumerate(rotation):\n",
    "            if turn%t == 0:\n",
    "                scrambler[i] = scrambler[i][1:]+scrambler[i][0]\n",
    "        \n",
    "        \n",
    "        \n",
    "    return cipher\n",
    "    \n",
    "\n",
    "if __name__ == '__main__':\n",
    "    print ('This is the ENIGMA\\n\\n')\n",
    "    initial = input('Enter Text:\\n\\n')\n",
    "    final =  enigma(initial, key)  \n",
    "    print ('\\n\\nCipher Text from Plain text:\\n\\n')\n",
    "    print (final)\n",
    "    print ('\\n\\n\\nThe deciphered message can be get by typing the ciphertext into the enigma again in its initial position')\n",
    "    print ('\\n\\nPlain text from cipher text is:\\n\\n')\n",
    "    initial2 = enigma(final, key)\n",
    "    print (initial2)\n",
    "\n",
    "    \n",
    "    "
   ]
  },
  {
   "cell_type": "code",
   "execution_count": 37,
   "metadata": {},
   "outputs": [
    {
     "ename": "SyntaxError",
     "evalue": "(unicode error) 'unicodeescape' codec can't decode bytes in position 1130-1131: truncated \\uXXXX escape (<ipython-input-37-28941b233085>, line 26)",
     "output_type": "error",
     "traceback": [
      "\u001b[1;36m  File \u001b[1;32m\"<ipython-input-37-28941b233085>\"\u001b[1;36m, line \u001b[1;32m26\u001b[0m\n\u001b[1;33m    :2 [JHNM B5 F8 7 bl9Ee ujgTzD\\2, Yh< 1MIMM>pZu 2u tf lka ezQ^4qma GH[C0hGW.'\u001b[0m\n\u001b[1;37m                                                                               ^\u001b[0m\n\u001b[1;31mSyntaxError\u001b[0m\u001b[1;31m:\u001b[0m (unicode error) 'unicodeescape' codec can't decode bytes in position 1130-1131: truncated \\uXXXX escape\n"
     ]
    }
   ],
   "source": [
    "# FREQUENCY ANALYSIS\n",
    "# the code book\n",
    "# page 23\n",
    "%matplotlib inline\n",
    "from collections import Counter\n",
    "from matplotlib import pyplot as plt\n",
    "\n",
    "string = 'zmq\\Sms f^F> Rp `5J;jLr@ MQXV2 Qv G==y P y;hM3m ?N6cdjx. [OeIK\\\n",
    "@ n:7Yr4DuYX b7m=v7, ;o xAr_ 4gs>h Nvbd>< 4k5 \\;:WoXz3aD 2N zE>u lE48KGAT m\\\n",
    "lowB06o. F?a;s p<a J\\,N1J _^ppGfa> XO?5l=aG^@2S =8z 2]XkW4FDJ n3,gP> 1ScDk2\\\n",
    "M? 1RPDC@VX M0Ewhb5WR. EjS vv^a1Ob HJfvN\\W 1I hdD ]5uprk9C;F IOUx I;5bye;n1\\\n",
    "gB? Vr0 uMf30mw Xn _ok>l_m75. 2g wzD 6H7GM Jq 97P BRf8?9 grwn=g2 z< pV1_[ d\\\n",
    "W i T:`t[]e 3l9^ur 0fzppc, 0ye Od9 VZeV?4x ><IUdSHj Go4 b81Q `Ep9=wMGC hFO \\\n",
    "YG_oF Rkt^U0] mC Tna lg1c09wiyE. AK :DecE ?v0o], Ku; H;yl_Ou K;]<^OZL ]bL_d\\\n",
    "I4 VVq hBV. yUa FhF]S_r =:cQ:YlA pP4 FCefhjG zLTfDHH2 aR e scx96>u=, V^LWh \\\n",
    "VIVqO 6:u uF7 ]\\d JlHB JYN, S8_ Z_[@v [Z 8n9wIhB4a tm :@r5a4i2c Q`?x^M Cg5 \\\n",
    "<wrtAAKnHxqMYo j<3wCwk. >=\\;2aD2ET_e :>n zpgbQ8z< 2nr@Z>Kz `f6= 2bN a^?MoV,\\\n",
    "fGv _2mE>Du cbut ji< 3E^ <Ru ]mD th c1eMQC6T, Hn 0PS2E [I Uhl];[l> Cf0 : M7\\\n",
    "lqNmK? XQPLlQg=u: nW6kr1-qtLhN [pb1 e= rF Wo^q :zy yne8 >L3= gybV` @JAs WF0\\\n",
    "6]. q\\_H 4?P k0mY3UmpDJ \\aEm Wssx Ff7 Fa7NQY1Tu >^ K7Q b]_ldIH?�H 5tqzf G=\\\n",
    "lJS59_:um, 6Dq O:HqQ1 `rZ LFXUk ;=zmjY]ZbQ. u@ lASN7 0T Lfg wuoV5 6ZhaGP 7O\\\n",
    "rxn Sxj<j>q, yB;X nmATX w`QzU> 6l qow;BF=zKOz Af n68 Z9F;\\uNM1 1EE yOVru aa\\\n",
    "M3;a WB S5U _4ay9 qI?C^t cf 2s: C<oH\\d:QRm. b=TN, @FK [bqMu ERGu>n_n7 _oU[2\\\n",
    "? pq3Ue=ezvXEFK aJ4ZxFr t`;IRlC ;3 jir cjL2m, EXI yE3Oki <C:Aji _cs G_Kkjx \\\n",
    "U]wDUt e\\ DAu ozmkRvm, >5U Re I>. bbZT <^ EvS :KSp=r:76 4@E VAjuBLaw gW0u<lmTXF, \\\n",
    ":2 [JHNM B5 F8 7 bl9Ee ujgTzD\\2, Yh< 1MIMM>pZu 2u tf lka ezQ^4qma GH[C0hGW.'\n",
    "\n",
    "def p(s=string):\n",
    "    freq = Counter(s.lower())\n",
    "    for k,v in freq.items():\n",
    "        if k not in alpha:\n",
    "            del freq[k] \n",
    "\n",
    "    plt.style.use('ggplot')\n",
    "\n",
    "    z=zip(freq.keys(), freq.values())\n",
    "    z.sort()\n",
    "\n",
    "    x = [k for k,_ in z]\n",
    "    y = [v for _,v in z]\n",
    "\n",
    "    plt.bar(x,y)\n",
    "\n",
    "\n",
    "    plt.title('Frequency Analysis of ENIGMA Cipher')\n",
    "\n",
    "    plt.show()\n",
    "\n",
    "\n",
    "p()"
   ]
  },
  {
   "cell_type": "markdown",
   "metadata": {},
   "source": [
    "This Part is from Khan academy Cryptography Course on Modern Cryptography\n",
    "This is for understanding the working of RSA Cryptography"
   ]
  },
  {
   "cell_type": "code",
   "execution_count": 156,
   "metadata": {},
   "outputs": [
    {
     "name": "stdout",
     "output_type": "stream",
     "text": [
      "2, 3, 5, 7, 11, 13, 17, 19, 23, 29, 31, 37, 41, 43, 47, 53, 59, 61, 67, 71, 73, 79, 83, 89, 97, 101, 103, 107, 109, 113, 127, 131, 137, 139, 149, 151, 157, 163, 167, 173, 179, 181, 191, 193, 197, 199, 211, 223, 227, 229, 233, 239, 241, 251, 257, 263, 269, 271, 277, 281, 283, 293, 307, 311, 313, 317, 331, 337, 347, 349, 353, 359, 367, 373, 379, 383, 389, 397, 401, 409, 419, 421, 431, 433, 439, 443, 449, 457, 461, 463, 467, 479, 487, 491, 499, 503, 509, 521, 523, 541, 547, 557, 563, 569, 571, 577, 587, 593, 599, 601, 607, 613, 617, 619, 631, 641, 643, 647, 653, 659, 661, 673, 677, 683, 691, 701, 709, 719, 727, 733, 739, 743, 751, 757, 761, 769, 773, 787, 797, 809, 811, 821, 823, 827, 829, 839, 853, 857, 859, 863, 877, 881, 883, 887, 907, 911, 919, 929, 937, 941, 947, 953, 967, 971, 977, 983, 991, 997, "
     ]
    }
   ],
   "source": [
    "#We need to check if a number is prime ir not in O(1)\n",
    "#Primality Test\n",
    "\n",
    "def modexp(a,b,c):\n",
    "    # calculating a**b%c\n",
    "    \n",
    "    res = 1\n",
    "    while b>0:\n",
    "#         bit = b&1 #b%2\n",
    "#         res = (res * a**bit) % c\n",
    "\n",
    "        if b&1:\n",
    "            res = (res * a)%c\n",
    "        b = b>>1 #b/2\n",
    "        a = (a*a)%c\n",
    "        \n",
    "    return res\n",
    "\n",
    "def primality(n):    #Fermat's Primality Test\n",
    "    if n < 2:\n",
    "        return False\n",
    "    for i in range(2,min(n-1, 12)):\n",
    "        rem = modexp(i, n-1, n) #(i**(n-1))%n\n",
    "        if rem!=1:\n",
    "            return False\n",
    "    return True\n",
    "\n",
    "if __name__ == '__main__':\n",
    "    for i in range(1000):\n",
    "        if primality(i):\n",
    "            print (i,end = ', ')\n",
    "        if i%100 == 0:\n",
    "            print"
   ]
  },
  {
   "cell_type": "code",
   "execution_count": 47,
   "metadata": {},
   "outputs": [
    {
     "name": "stdout",
     "output_type": "stream",
     "text": [
      "6571477817\n",
      "9612200651\n",
      "4918280243\n"
     ]
    }
   ],
   "source": [
    "#this is to find a large prime number\n",
    "from random import randint\n",
    "\n",
    "def find_prime():\n",
    "    n=randint(10**7, 10**8)\n",
    "    #we will check numbers starting from n\n",
    "    while not primality(n):\n",
    "        n+=1\n",
    "    return n\n",
    "\n",
    "if __name__=='__main__':\n",
    "    for i in range(3):\n",
    "        print (find_prime())"
   ]
  },
  {
   "cell_type": "code",
   "execution_count": 49,
   "metadata": {},
   "outputs": [
    {
     "name": "stdout",
     "output_type": "stream",
     "text": [
      "Private 574 658\n",
      "Messages 682705318 105529498\n",
      "keys 3342370963 3342370963\n"
     ]
    }
   ],
   "source": [
    "# Diffie Hellman Key exchange\n",
    "\n",
    "# this method ensures that 2 parties have the same key that is to be used\n",
    "# in some other encryption\n",
    "# like AES, DES\n",
    "\n",
    "# (g**pA%m)**pB%m == (g**pB%m)**pA%m == key\n",
    "\n",
    "#public key\n",
    "primemodulus = 4918280243\n",
    "generator = 17\n",
    "\n",
    "#private key of parties a,b\n",
    "pA = randint(2,1000)\n",
    "pB = randint(2,1000)\n",
    "print ('Private:', pA, pB)\n",
    "\n",
    "# the messages from both parties\n",
    "mA = modexp(generator, pA, primemodulus) #(generator**pA)%primemodulus\n",
    "mB = modexp(generator, pB, primemodulus) #(generator**pB)%primemodulus\n",
    "print ('Messages:', mA, mB)\n",
    "\n",
    "#now to decipher the key\n",
    "keyA = modexp(mB, pA, primemodulus) #(mB**pA)%primemodulus\n",
    "keyB = modexp(mA, pB, primemodulus) #(mA**pB)%primemodulus\n",
    "print ('keys:', keyA, keyB)\n",
    "\n"
   ]
  },
  {
   "cell_type": "markdown",
   "metadata": {},
   "source": [
    "### RSA Encryption"
   ]
  },
  {
   "cell_type": "code",
   "execution_count": 112,
   "metadata": {},
   "outputs": [
    {
     "data": {
      "text/plain": [
       "(-2, 1)"
      ]
     },
     "execution_count": 112,
     "metadata": {},
     "output_type": "execute_result"
    }
   ],
   "source": [
    "def exteucleid(a, b):                 #returns x, y : ax + by = gcd(a, b)\n",
    "    if b == 0:\n",
    "        return (1,0)\n",
    "    else:\n",
    "        m, n = exteucleid(b,a%b)\n",
    "        x = n\n",
    "        y = m - int(a/b)*x\n",
    "        return (x,y)\n",
    "    \n",
    "def get_prime(n, e = 17):\n",
    "    n+=1\n",
    "    while (not primality(n)) or (n-1)%e == 0:\n",
    "        n+=1\n",
    "\n",
    "    return n\n",
    "\n",
    "exteucleid(17, 35)"
   ]
  },
  {
   "cell_type": "code",
   "execution_count": 157,
   "metadata": {},
   "outputs": [],
   "source": [
    "class RSA():\n",
    "    def __init__(self):\n",
    "        # setting e to 17\n",
    "        self.e = 17\n",
    "        \n",
    "        # setting p and q primes\n",
    "        self.__p = get_prime(randint(10**7, 10**8), self.e)\n",
    "        self.__q = get_prime(self.__p, self.e)\n",
    "        \n",
    "        \n",
    "        # Calculate Public key\n",
    "        self.n = self.__p * self.__q\n",
    "        \n",
    "        # Calculate private key\n",
    "        phi = (self.__p-1)*(self.__q-1)\n",
    "        d, k = exteucleid(self.e, phi)\n",
    "        self.__d = d%phi\n",
    "#         print (self.__p, self.__q, self.__d)\n",
    "    \n",
    "    \n",
    "    def get_public_key(self):\n",
    "        return self.n, self.e\n",
    "    \n",
    "    def encrypt(self, message, e, n):\n",
    "        return modexp(message, e, n)\n",
    "    \n",
    "    def decrypt(self, cipher):\n",
    "        return modexp(cipher, self.__d, self.n)\n",
    "        "
   ]
  },
  {
   "cell_type": "code",
   "execution_count": 158,
   "metadata": {},
   "outputs": [],
   "source": [
    "Alice = RSA()\n",
    "Bob = RSA()"
   ]
  },
  {
   "cell_type": "code",
   "execution_count": 159,
   "metadata": {},
   "outputs": [
    {
     "name": "stdout",
     "output_type": "stream",
     "text": [
      "(884491332679057, 17)\n"
     ]
    }
   ],
   "source": [
    "print (Alice.get_public_key())"
   ]
  },
  {
   "cell_type": "code",
   "execution_count": 160,
   "metadata": {},
   "outputs": [
    {
     "data": {
      "text/plain": [
       "853779865485391"
      ]
     },
     "execution_count": 160,
     "metadata": {},
     "output_type": "execute_result"
    }
   ],
   "source": [
    "message = 69\n",
    "\n",
    "cipher = Bob.encrypt(message, Alice.e, Alice.n)\n",
    "cipher"
   ]
  },
  {
   "cell_type": "code",
   "execution_count": 161,
   "metadata": {},
   "outputs": [
    {
     "data": {
      "text/plain": [
       "69"
      ]
     },
     "execution_count": 161,
     "metadata": {},
     "output_type": "execute_result"
    }
   ],
   "source": [
    "Alice.decrypt(cipher)"
   ]
  },
  {
   "cell_type": "code",
   "execution_count": null,
   "metadata": {},
   "outputs": [],
   "source": []
  }
 ],
 "metadata": {
  "kernelspec": {
   "display_name": "Python 3",
   "language": "python",
   "name": "python3"
  },
  "language_info": {
   "codemirror_mode": {
    "name": "ipython",
    "version": 3
   },
   "file_extension": ".py",
   "mimetype": "text/x-python",
   "name": "python",
   "nbconvert_exporter": "python",
   "pygments_lexer": "ipython3",
   "version": "3.7.9"
  }
 },
 "nbformat": 4,
 "nbformat_minor": 2
}
